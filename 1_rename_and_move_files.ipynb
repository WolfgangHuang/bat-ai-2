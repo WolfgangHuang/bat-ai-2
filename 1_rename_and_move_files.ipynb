{
 "cells": [
  {
   "cell_type": "code",
   "execution_count": null,
   "metadata": {},
   "outputs": [],
   "source": [
    "import os\n",
    "import numpy as np\n",
    "import pandas as pd"
   ]
  },
  {
   "cell_type": "code",
   "execution_count": null,
   "metadata": {},
   "outputs": [],
   "source": [
    "filepaths = np.genfromtxt(\"filepaths.csv\", delimiter=\";\", dtype=str)\n",
    "filepaths.dtype"
   ]
  },
  {
   "cell_type": "code",
   "execution_count": null,
   "metadata": {},
   "outputs": [],
   "source": [
    "print(filepaths)\n",
    "print(filepaths.shape)"
   ]
  },
  {
   "cell_type": "code",
   "execution_count": null,
   "metadata": {},
   "outputs": [],
   "source": [
    "filepaths_df = pd.DataFrame(filepaths)\n",
    "filepaths_df.head(10)"
   ]
  },
  {
   "cell_type": "code",
   "execution_count": null,
   "metadata": {},
   "outputs": [],
   "source": [
    "current_working_directory = os.getcwd()\n",
    "print(f\"Current working directory: {current_working_directory}\")"
   ]
  },
  {
   "cell_type": "code",
   "execution_count": null,
   "metadata": {},
   "outputs": [],
   "source": [
    "# # The following loop deletes all photos, as those are not needed. But it is useless, as we move the needed files to a new location anyway, and continue to work with these.\n",
    "\n",
    "# # Specify the column index you want to loop over\n",
    "# column_index = 5 \n",
    "# i = 0\n",
    "# j = 0\n",
    "# k = 0\n",
    "# errorlog = []\n",
    "\n",
    "# # Loop over each element in the specified column\n",
    "# for row_index in range(filepaths.shape[0]):\n",
    "#     # Access the element in the specified column for the current row\n",
    "#     element = filepaths[row_index, column_index]\n",
    "    \n",
    "#     i = i+1 # count how often the for loop is run\n",
    "\n",
    "#     if element!=\"\" and (\"photo.jpg\" or \"photo.jpeg\" or \"photo.png\") in element:\n",
    "#         # print(f\"Element at row {row_index}, column {column_index}: {element}\")\n",
    "        \n",
    "#         file_path = element.replace(\"/\", \"\\\\\")\n",
    "\n",
    "#         # Delete the file\n",
    "#         try:\n",
    "#             os.remove(file_path)\n",
    "#             print(f\"File '{file_path}' has been deleted successfully.\")\n",
    "#             j=j+1\n",
    "\n",
    "#         except FileNotFoundError:\n",
    "#             print(f\"File '{file_path}' does not exist.\")\n",
    "#             errorlog.append(element)\n",
    "#             k=k+1\n",
    "\n",
    "#         except PermissionError:\n",
    "#             print(f\"Permission denied to delete the file '{file_path}'.\")\n",
    "#             errorlog.append(element)\n",
    "#             k=k+1\n",
    "\n",
    "#         except Exception as e:\n",
    "#             print(f\"An error occurred while deleting the file: {e}\")\n",
    "#             errorlog.append(element)\n",
    "#             k=k+1\n",
    "   \n",
    "# print(f\"Checked {i} files. Deleted {j} files. Errors:{k}\")\n",
    "        \n"
   ]
  },
  {
   "cell_type": "code",
   "execution_count": null,
   "metadata": {},
   "outputs": [],
   "source": [
    "# rename and move files\n",
    "\n",
    "def MoveFiles(oldpath_index, new_file_name_index, old_filetype, file_name_extension1, file_name_extension2, target_directory):\n",
    "\n",
    "    errorlog = []\n",
    "\n",
    "    i = 0\n",
    "    j = 0\n",
    "    k = 0\n",
    "\n",
    "    # Loop over each element in the specified column\n",
    "    for row_index in range(filepaths.shape[0]):\n",
    "        # Access the element in the specified column for the current row\n",
    "        element = filepaths[row_index, oldpath_index]\n",
    "        \n",
    "        i = i+1 # count how often the for loop is run\n",
    "\n",
    "        if element!=\"\" and old_filetype in element:\n",
    "            # print(f\"Element at row {row_index}, column {oldpath_index}: {element}\")\n",
    "            \n",
    "            file_path = element.replace(\"/\", \"\\\\\")\n",
    "\n",
    "            # Specify the original file path\n",
    "            original_file_path = file_path\n",
    "\n",
    "            # Specify the new file path (including the new name)\n",
    "            new_file_path = target_directory + \"\\\\\" + filepaths[row_index, new_file_name_index] + file_name_extension1 + file_name_extension2\n",
    "        \n",
    "\n",
    "            # Ensure the destination directory exists\n",
    "            os.makedirs(os.path.dirname(target_directory + \"\\\\\"), exist_ok=True)\n",
    "\n",
    "            # Move and rename the file\n",
    "            try:\n",
    "                os.rename(original_file_path, new_file_path)\n",
    "                #print(f\"File has been moved to {new_file_path} and renamed successfully.\")\n",
    "                j=j+1\n",
    "            except FileNotFoundError:\n",
    "                print(f\"The file {original_file_path} does not exist.\")\n",
    "                errorlog.append(element)\n",
    "                k=k+1\n",
    "            except PermissionError:\n",
    "                print(f\"Permission denied to move the file.\")\n",
    "                errorlog.append(element)\n",
    "                k=k+1\n",
    "            except FileExistsError:\n",
    "                print(f\"The file {new_file_path} already exists.\")\n",
    "                errorlog.append(element)\n",
    "                k=k+1\n",
    "            except Exception as e:\n",
    "                print(f\"An error occurred: {e}\")\n",
    "                errorlog.append(element)\n",
    "                k=k+1\n",
    "    \n",
    "    print(f\"Checked {i} files. Moved & renamed {j} files. Errors:{k}\")\n",
    "    return errorlog"
   ]
  },
  {
   "cell_type": "code",
   "execution_count": null,
   "metadata": {},
   "outputs": [],
   "source": [
    "# call the function for Letter Of Recommendation 1\n",
    "errorlog_lor1 = MoveFiles(2,7,\"recc1\", \"-lor1\", \".pdf\",\"combinedfiles\")"
   ]
  },
  {
   "cell_type": "code",
   "execution_count": null,
   "metadata": {},
   "outputs": [],
   "source": [
    "# call the function for Letter Of Recommendation 2\n",
    "errorlog_lor2 = MoveFiles(3,7,\"recc2\", \"-lor2\", \".pdf\",\"combinedfiles\")"
   ]
  },
  {
   "cell_type": "code",
   "execution_count": null,
   "metadata": {},
   "outputs": [],
   "source": [
    "# call the function for CV\n",
    "errorlog_cv = MoveFiles(4,7,\"cv\", \"-cv\", \".pdf\",\"combinedfiles\")"
   ]
  },
  {
   "cell_type": "markdown",
   "metadata": {},
   "source": [
    "continue with the PDF to text conversion in a new notebook"
   ]
  }
 ],
 "metadata": {
  "kernelspec": {
   "display_name": "DataVisualization_01",
   "language": "python",
   "name": "python3"
  },
  "language_info": {
   "codemirror_mode": {
    "name": "ipython",
    "version": 3
   },
   "file_extension": ".py",
   "mimetype": "text/x-python",
   "name": "python",
   "nbconvert_exporter": "python",
   "pygments_lexer": "ipython3",
   "version": "3.12.1"
  }
 },
 "nbformat": 4,
 "nbformat_minor": 2
}
